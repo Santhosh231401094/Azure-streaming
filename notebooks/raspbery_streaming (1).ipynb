{
 "cells": [
  {
   "cell_type": "code",
   "execution_count": 0,
   "metadata": {
    "application/vnd.databricks.v1+cell": {
     "cellMetadata": {
      "byteLimit": 2048000,
      "rowLimit": 10000
     },
     "inputWidgets": {},
     "nuid": "e5fdbaa6-5044-49a2-8420-4cc31ef6b880",
     "showTitle": false,
     "tableResultSettingsMap": {},
     "title": ""
    }
   },
   "outputs": [],
   "source": [
    "from pyspark.sql.functions import *\n",
    "from pyspark.sql.types import *\n",
    "import json"
   ]
  },
  {
   "cell_type": "code",
   "execution_count": 0,
   "metadata": {
    "application/vnd.databricks.v1+cell": {
     "cellMetadata": {
      "byteLimit": 2048000,
      "rowLimit": 10000
     },
     "inputWidgets": {},
     "nuid": "f737fe28-88bb-4b77-9b49-a706925d2d40",
     "showTitle": false,
     "tableResultSettingsMap": {},
     "title": ""
    }
   },
   "outputs": [],
   "source": [
    "spark.conf.set(\"spark.databricks.delta.optimizeWrite.enabled\", \"true\")\n",
    "spark.conf.set(\"spark.databricks.delta.autoCompact.enabled\", \"true\")"
   ]
  },
  {
   "cell_type": "code",
   "execution_count": 0,
   "metadata": {
    "application/vnd.databricks.v1+cell": {
     "cellMetadata": {
      "byteLimit": 2048000,
      "rowLimit": 10000
     },
     "inputWidgets": {},
     "nuid": "95a64475-0691-4a60-8df1-b8a49afb5cae",
     "showTitle": false,
     "tableResultSettingsMap": {},
     "title": ""
    }
   },
   "outputs": [
    {
     "output_type": "execute_result",
     "data": {
      "text/plain": [
       "<pyspark.sql.streaming.query.StreamingQuery at 0x7f569892a0d0>"
      ]
     },
     "execution_count": 33,
     "metadata": {},
     "output_type": "execute_result"
    }
   ],
   "source": [
    "myschema = \"\"\"\n",
    "    messageId INT,\n",
    "    deviceId STRING,\n",
    "    temperature DOUBLE,\n",
    "    humidity DOUBLE\n",
    "\"\"\"\n",
    "\n",
    "IOT_CS=\"Endpoint=sb://ihsuprodpnres015dednamespace.servicebus.windows.net/;SharedAccessKeyName=iothubowner;SharedAccessKey=ueEkYb3q4+JQJjRuKu5qGgRy0F8My6NmyAIoTCDd/9Q=;EntityPath=iothub-ehub-saniot-55692332-9694222357\"\n",
    "ehConf={\n",
    "    \"eventhubs.connectionString\":sc._jvm.org.apache.spark.eventhubs.EventHubsUtils.encrypt(IOT_CS),\n",
    "    \"eventhubs.consumerGroup\":\"$Default\"\n",
    "}\n",
    "eventhub_stream = (\n",
    "    spark.readStream.format(\"eventhubs\")\n",
    "        .options(**ehConf)\n",
    "        .load()\n",
    ")\n",
    "\n",
    "df_parsed = eventhub_stream.select(\n",
    "    from_json(col(\"body\").cast(\"string\"), myschema).alias(\"data\"),\n",
    "    col(\"enqueuedTime\").alias(\"EventEnqueuedUtcTime\"),\n",
    "    col(\"partition\").alias(\"PartitionId\"),\n",
    "    col(\"systemProperties.iothub-connection-device-id\").alias(\"iotHubDeviceId\")\n",
    "    \n",
    ")\n",
    "\n",
    "\n",
    "df_clean = df_parsed.select(\n",
    "    \"data.messageId\",\n",
    "    \"data.deviceId\",\n",
    "    \"data.temperature\",\n",
    "    \"data.humidity\",\n",
    "    \"EventEnqueuedUtcTime\",\n",
    "    \"PartitionId\",\n",
    "    \"iotHubDeviceId\"\n",
    "    \n",
    ")\n",
    "\n",
    "df_clean=df_clean.dropDuplicates([\"messageId\"])\n",
    "\n",
    "df_clean.writeStream \\\n",
    "    .format(\"delta\") \\\n",
    "    .outputMode(\"append\") \\\n",
    "    .trigger(processingTime=\"10 seconds\") \\\n",
    "    .option(\"checkpointLocation\", \"abfss://sink@sanstorage218.dfs.core.windows.net/checkpoint/iotcheckpoint\") \\\n",
    "    .option(\"path\", \"abfss://sink@sanstorage218.dfs.core.windows.net/data\") \\\n",
    "    .start()"
   ]
  },
  {
   "cell_type": "code",
   "execution_count": 0,
   "metadata": {
    "application/vnd.databricks.v1+cell": {
     "cellMetadata": {
      "byteLimit": 2048000,
      "implicitDf": true,
      "rowLimit": 10000
     },
     "inputWidgets": {},
     "nuid": "f3702821-1ae9-451e-9b53-295884d79b72",
     "showTitle": false,
     "tableResultSettingsMap": {},
     "title": ""
    }
   },
   "outputs": [
    {
     "output_type": "display_data",
     "data": {
      "text/html": [
       "<style scoped>\n",
       "  .table-result-container {\n",
       "    max-height: 300px;\n",
       "    overflow: auto;\n",
       "  }\n",
       "  table, th, td {\n",
       "    border: 1px solid black;\n",
       "    border-collapse: collapse;\n",
       "  }\n",
       "  th, td {\n",
       "    padding: 5px;\n",
       "  }\n",
       "  th {\n",
       "    text-align: left;\n",
       "  }\n",
       "</style><div class='table-result-container'><table class='table-result'><thead style='background-color: white'><tr><th>messageId</th><th>deviceId</th><th>temperature</th><th>humidity</th><th>EventEnqueuedUtcTime</th><th>PartitionId</th><th>iotHubDeviceId</th></tr></thead><tbody><tr><td>13</td><td>Raspberry Pi Web Client</td><td>27.17663285751035</td><td>73.86856374099435</td><td>2025-09-28T12:12:57.562Z</td><td>0</td><td>raspberypiiot</td></tr><tr><td>12</td><td>Raspberry Pi Web Client</td><td>20.234059551400843</td><td>69.25804710566875</td><td>2025-09-28T12:12:55.515Z</td><td>0</td><td>raspberypiiot</td></tr><tr><td>15</td><td>Raspberry Pi Web Client</td><td>26.758420598315862</td><td>69.18772351341008</td><td>2025-09-28T12:13:01.547Z</td><td>0</td><td>raspberypiiot</td></tr><tr><td>10</td><td>Raspberry Pi Web Client</td><td>27.963014927882778</td><td>63.20297100832024</td><td>2025-09-28T12:12:51.546Z</td><td>0</td><td>raspberypiiot</td></tr><tr><td>11</td><td>Raspberry Pi Web Client</td><td>22.905426115583317</td><td>68.46230989193907</td><td>2025-09-28T12:12:53.546Z</td><td>0</td><td>raspberypiiot</td></tr><tr><td>14</td><td>Raspberry Pi Web Client</td><td>24.570298372523798</td><td>71.6409283439206</td><td>2025-09-28T12:12:59.562Z</td><td>0</td><td>raspberypiiot</td></tr><tr><td>6</td><td>Raspberry Pi Web Client</td><td>31.567889584504673</td><td>76.08167115902894</td><td>2025-09-28T12:12:43.529Z</td><td>0</td><td>raspberypiiot</td></tr><tr><td>5</td><td>Raspberry Pi Web Client</td><td>20.520373385152034</td><td>77.85377993023901</td><td>2025-09-28T12:12:41.544Z</td><td>0</td><td>raspberypiiot</td></tr><tr><td>9</td><td>Raspberry Pi Web Client</td><td>28.213852029107148</td><td>72.92160375298694</td><td>2025-09-28T12:12:49.53Z</td><td>0</td><td>raspberypiiot</td></tr><tr><td>8</td><td>Raspberry Pi Web Client</td><td>20.82815803309068</td><td>69.33651839039123</td><td>2025-09-28T12:12:47.53Z</td><td>0</td><td>raspberypiiot</td></tr><tr><td>7</td><td>Raspberry Pi Web Client</td><td>28.12048926950675</td><td>74.99664308669969</td><td>2025-09-28T12:12:45.561Z</td><td>0</td><td>raspberypiiot</td></tr><tr><td>1</td><td>Raspberry Pi Web Client</td><td>24.955482047902965</td><td>75.48416931214653</td><td>2025-09-28T12:12:32.731Z</td><td>0</td><td>raspberypiiot</td></tr><tr><td>3</td><td>Raspberry Pi Web Client</td><td>20.441235174846728</td><td>65.57282566812015</td><td>2025-09-28T12:12:37.576Z</td><td>0</td><td>raspberypiiot</td></tr><tr><td>4</td><td>Raspberry Pi Web Client</td><td>26.248088174964327</td><td>74.2852825456292</td><td>2025-09-28T12:12:39.56Z</td><td>0</td><td>raspberypiiot</td></tr><tr><td>2</td><td>Raspberry Pi Web Client</td><td>21.34374839072329</td><td>70.52157511732328</td><td>2025-09-28T12:12:34.716Z</td><td>0</td><td>raspberypiiot</td></tr><tr><td>16</td><td>Raspberry Pi Web Client</td><td>23.069085253181687</td><td>73.71290160098101</td><td>2025-09-28T12:13:03.578Z</td><td>0</td><td>raspberypiiot</td></tr><tr><td>17</td><td>Raspberry Pi Web Client</td><td>21.725553880390574</td><td>64.60964206311226</td><td>2025-09-28T12:13:05.547Z</td><td>0</td><td>raspberypiiot</td></tr><tr><td>18</td><td>Raspberry Pi Web Client</td><td>23.430845897486794</td><td>66.4957891826205</td><td>2025-09-28T12:13:07.641Z</td><td>0</td><td>raspberypiiot</td></tr><tr><td>70</td><td>Raspberry Pi Web Client</td><td>31.484176606822118</td><td>72.95595452793393</td><td>2025-09-28T12:12:02.865Z</td><td>0</td><td>raspberypiiot</td></tr><tr><td>71</td><td>Raspberry Pi Web Client</td><td>20.11176078526642</td><td>71.66207852781075</td><td>2025-09-28T12:12:03.631Z</td><td>0</td><td>raspberypiiot</td></tr></tbody></table></div>"
      ]
     },
     "metadata": {
      "application/vnd.databricks.v1+output": {
       "addedWidgets": {},
       "aggData": [],
       "aggError": "",
       "aggOverflow": false,
       "aggSchema": [],
       "aggSeriesLimitReached": false,
       "aggType": "",
       "arguments": {},
       "columnCustomDisplayInfos": {},
       "data": [
        [
         13,
         "Raspberry Pi Web Client",
         27.17663285751035,
         73.86856374099435,
         "2025-09-28T12:12:57.562Z",
         "0",
         "raspberypiiot"
        ],
        [
         12,
         "Raspberry Pi Web Client",
         20.234059551400843,
         69.25804710566875,
         "2025-09-28T12:12:55.515Z",
         "0",
         "raspberypiiot"
        ],
        [
         15,
         "Raspberry Pi Web Client",
         26.758420598315862,
         69.18772351341008,
         "2025-09-28T12:13:01.547Z",
         "0",
         "raspberypiiot"
        ],
        [
         10,
         "Raspberry Pi Web Client",
         27.963014927882778,
         63.20297100832024,
         "2025-09-28T12:12:51.546Z",
         "0",
         "raspberypiiot"
        ],
        [
         11,
         "Raspberry Pi Web Client",
         22.905426115583317,
         68.46230989193907,
         "2025-09-28T12:12:53.546Z",
         "0",
         "raspberypiiot"
        ],
        [
         14,
         "Raspberry Pi Web Client",
         24.570298372523798,
         71.6409283439206,
         "2025-09-28T12:12:59.562Z",
         "0",
         "raspberypiiot"
        ],
        [
         6,
         "Raspberry Pi Web Client",
         31.567889584504673,
         76.08167115902894,
         "2025-09-28T12:12:43.529Z",
         "0",
         "raspberypiiot"
        ],
        [
         5,
         "Raspberry Pi Web Client",
         20.520373385152034,
         77.85377993023901,
         "2025-09-28T12:12:41.544Z",
         "0",
         "raspberypiiot"
        ],
        [
         9,
         "Raspberry Pi Web Client",
         28.213852029107148,
         72.92160375298694,
         "2025-09-28T12:12:49.53Z",
         "0",
         "raspberypiiot"
        ],
        [
         8,
         "Raspberry Pi Web Client",
         20.82815803309068,
         69.33651839039123,
         "2025-09-28T12:12:47.53Z",
         "0",
         "raspberypiiot"
        ],
        [
         7,
         "Raspberry Pi Web Client",
         28.12048926950675,
         74.99664308669969,
         "2025-09-28T12:12:45.561Z",
         "0",
         "raspberypiiot"
        ],
        [
         1,
         "Raspberry Pi Web Client",
         24.955482047902965,
         75.48416931214653,
         "2025-09-28T12:12:32.731Z",
         "0",
         "raspberypiiot"
        ],
        [
         3,
         "Raspberry Pi Web Client",
         20.441235174846728,
         65.57282566812015,
         "2025-09-28T12:12:37.576Z",
         "0",
         "raspberypiiot"
        ],
        [
         4,
         "Raspberry Pi Web Client",
         26.248088174964327,
         74.2852825456292,
         "2025-09-28T12:12:39.56Z",
         "0",
         "raspberypiiot"
        ],
        [
         2,
         "Raspberry Pi Web Client",
         21.34374839072329,
         70.52157511732328,
         "2025-09-28T12:12:34.716Z",
         "0",
         "raspberypiiot"
        ],
        [
         16,
         "Raspberry Pi Web Client",
         23.069085253181687,
         73.71290160098101,
         "2025-09-28T12:13:03.578Z",
         "0",
         "raspberypiiot"
        ],
        [
         17,
         "Raspberry Pi Web Client",
         21.725553880390574,
         64.60964206311226,
         "2025-09-28T12:13:05.547Z",
         "0",
         "raspberypiiot"
        ],
        [
         18,
         "Raspberry Pi Web Client",
         23.430845897486794,
         66.4957891826205,
         "2025-09-28T12:13:07.641Z",
         "0",
         "raspberypiiot"
        ],
        [
         70,
         "Raspberry Pi Web Client",
         31.484176606822118,
         72.95595452793393,
         "2025-09-28T12:12:02.865Z",
         "0",
         "raspberypiiot"
        ],
        [
         71,
         "Raspberry Pi Web Client",
         20.11176078526642,
         71.66207852781075,
         "2025-09-28T12:12:03.631Z",
         "0",
         "raspberypiiot"
        ]
       ],
       "datasetInfos": [],
       "dbfsResultPath": null,
       "isJsonSchema": true,
       "metadata": {
        "createTempViewForImplicitDf": true,
        "dataframeName": "_sqldf",
        "executionCount": 35
       },
       "overflow": false,
       "plotOptions": {
        "customPlotOptions": {},
        "displayType": "table",
        "pivotAggregation": null,
        "pivotColumns": null,
        "xColumns": null,
        "yColumns": null
       },
       "removedWidgets": [],
       "schema": [
        {
         "metadata": "{}",
         "name": "messageId",
         "type": "\"integer\""
        },
        {
         "metadata": "{}",
         "name": "deviceId",
         "type": "\"string\""
        },
        {
         "metadata": "{}",
         "name": "temperature",
         "type": "\"double\""
        },
        {
         "metadata": "{}",
         "name": "humidity",
         "type": "\"double\""
        },
        {
         "metadata": "{}",
         "name": "EventEnqueuedUtcTime",
         "type": "\"timestamp\""
        },
        {
         "metadata": "{}",
         "name": "PartitionId",
         "type": "\"string\""
        },
        {
         "metadata": "{}",
         "name": "iotHubDeviceId",
         "type": "\"string\""
        }
       ],
       "type": "table"
      }
     },
     "output_type": "display_data"
    }
   ],
   "source": [
    "%sql\n",
    "SELECT * FROM DELTA.`abfss://sink@sanstorage218.dfs.core.windows.net/data`\n",
    "\n"
   ]
  },
  {
   "cell_type": "code",
   "execution_count": 0,
   "metadata": {
    "application/vnd.databricks.v1+cell": {
     "cellMetadata": {},
     "inputWidgets": {},
     "nuid": "29ea7a81-c807-4195-a609-f083b4641f1b",
     "showTitle": false,
     "tableResultSettingsMap": {},
     "title": ""
    }
   },
   "outputs": [],
   "source": []
  }
 ],
 "metadata": {
  "application/vnd.databricks.v1+notebook": {
   "computePreferences": null,
   "dashboards": [],
   "environmentMetadata": {
    "base_environment": "",
    "environment_version": "3"
   },
   "inputWidgetPreferences": null,
   "language": "python",
   "notebookMetadata": {
    "mostRecentlyExecutedCommandWithImplicitDF": {
     "commandId": 6278964840561108,
     "dataframes": [
      "_sqldf"
     ]
    },
    "pythonIndentUnit": 4
   },
   "notebookName": "raspbery_streaming",
   "widgets": {}
  },
  "language_info": {
   "name": "python"
  }
 },
 "nbformat": 4,
 "nbformat_minor": 0
}